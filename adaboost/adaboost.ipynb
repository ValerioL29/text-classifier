{
 "cells": [
  {
   "cell_type": "code",
   "execution_count": 16,
   "metadata": {
    "collapsed": true,
    "pycharm": {
     "name": "#%%\n"
    }
   },
   "outputs": [],
   "source": [
    "# 导入数据集\n",
    "import pickle\n",
    "\n",
    "with open('../preprocess/train/train_bag.pickle', 'rb') as file_obj:\n",
    "    train_bunch = pickle.load(file_obj)\n",
    "with open('../preprocess/test/test_bag.pickle', 'rb') as file_obj:\n",
    "    test_bunch = pickle.load(file_obj)"
   ]
  },
  {
   "cell_type": "code",
   "execution_count": 17,
   "outputs": [],
   "source": [
    "X_train = train_bunch.label\n",
    "y_train = train_bunch.tfidf_weight_matrices"
   ],
   "metadata": {
    "collapsed": false,
    "pycharm": {
     "name": "#%%\n"
    }
   }
  },
  {
   "cell_type": "code",
   "execution_count": 18,
   "outputs": [],
   "source": [
    "# 单SVM\n",
    "from sklearn.svm import LinearSVC\n",
    "SVM = LinearSVC(C=1, tol=1e-5)\n",
    "SVM.fit(y_train, X_train)\n",
    "svm_predicted = SVM.predict(test_bunch.tfidf_weight_matrices)"
   ],
   "metadata": {
    "collapsed": false,
    "pycharm": {
     "name": "#%%\n"
    }
   }
  },
  {
   "cell_type": "code",
   "execution_count": 19,
   "outputs": [],
   "source": [
    "# 单Bayes\n",
    "from sklearn.naive_bayes import MultinomialNB\n",
    "Bayes = MultinomialNB(alpha=0.001)\n",
    "Bayes.fit(y_train, X_train)\n",
    "bayes_predicted = Bayes.predict(test_bunch.tfidf_weight_matrices)"
   ],
   "metadata": {
    "collapsed": false,
    "pycharm": {
     "name": "#%%\n"
    }
   }
  },
  {
   "cell_type": "code",
   "execution_count": 20,
   "outputs": [],
   "source": [
    "# 单决策树\n",
    "from sklearn.tree import DecisionTreeClassifier\n",
    "Tree = DecisionTreeClassifier()\n",
    "Tree.fit(y_train, X_train)\n",
    "tree_predicted = Tree.predict(test_bunch.tfidf_weight_matrices)"
   ],
   "metadata": {
    "collapsed": false,
    "pycharm": {
     "name": "#%%\n"
    }
   }
  },
  {
   "cell_type": "code",
   "execution_count": 21,
   "outputs": [
    {
     "name": "stdout",
     "output_type": "stream",
     "text": [
      "----------------SVM----------------\n",
      "              precision    recall  f1-score   support\n",
      "\n",
      "          体育       1.00      1.00      1.00      1000\n",
      "          娱乐       0.97      0.98      0.98      1000\n",
      "          教育       0.92      0.87      0.90      1000\n",
      "          时尚       0.94      0.96      0.95      1000\n",
      "          时政       0.96      0.93      0.95      1000\n",
      "          游戏       0.97      0.97      0.97      1000\n",
      "          社会       0.93      0.90      0.91      1000\n",
      "          科技       0.91      0.92      0.91      1000\n",
      "          股票       0.95      0.97      0.96      1000\n",
      "          财经       0.94      0.98      0.96      1000\n",
      "\n",
      "    accuracy                           0.95     10000\n",
      "   macro avg       0.95      0.95      0.95     10000\n",
      "weighted avg       0.95      0.95      0.95     10000\n",
      "\n",
      "----------------Bayes----------------\n",
      "              precision    recall  f1-score   support\n",
      "\n",
      "          体育       0.98      0.98      0.98      1000\n",
      "          娱乐       0.91      0.98      0.94      1000\n",
      "          教育       0.90      0.86      0.88      1000\n",
      "          时尚       0.97      0.94      0.95      1000\n",
      "          时政       0.97      0.90      0.93      1000\n",
      "          游戏       0.84      0.96      0.89      1000\n",
      "          社会       0.91      0.88      0.89      1000\n",
      "          科技       0.90      0.82      0.86      1000\n",
      "          股票       0.98      0.99      0.98      1000\n",
      "          财经       0.95      0.98      0.97      1000\n",
      "\n",
      "    accuracy                           0.93     10000\n",
      "   macro avg       0.93      0.93      0.93     10000\n",
      "weighted avg       0.93      0.93      0.93     10000\n",
      "\n",
      "----------------Tree----------------\n",
      "              precision    recall  f1-score   support\n",
      "\n",
      "          体育       0.98      0.96      0.97      1000\n",
      "          娱乐       0.93      0.91      0.92      1000\n",
      "          教育       0.79      0.72      0.75      1000\n",
      "          时尚       0.78      0.88      0.83      1000\n",
      "          时政       0.79      0.78      0.78      1000\n",
      "          游戏       0.84      0.88      0.86      1000\n",
      "          社会       0.79      0.77      0.78      1000\n",
      "          科技       0.79      0.60      0.68      1000\n",
      "          股票       0.83      0.83      0.83      1000\n",
      "          财经       0.79      0.95      0.86      1000\n",
      "\n",
      "    accuracy                           0.83     10000\n",
      "   macro avg       0.83      0.83      0.83     10000\n",
      "weighted avg       0.83      0.83      0.83     10000\n",
      "\n"
     ]
    }
   ],
   "source": [
    "from sklearn.metrics import classification_report\n",
    "print(\"----------------SVM----------------\")\n",
    "print(classification_report(test_bunch.label, svm_predicted))\t# 打印结果\n",
    "print(\"----------------Bayes----------------\")\n",
    "print(classification_report(test_bunch.label, bayes_predicted))\t# 打印结果\n",
    "print(\"----------------Tree----------------\")\n",
    "print(classification_report(test_bunch.label, tree_predicted))\t# 打印结果"
   ],
   "metadata": {
    "collapsed": false,
    "pycharm": {
     "name": "#%%\n"
    }
   }
  },
  {
   "cell_type": "code",
   "execution_count": null,
   "outputs": [],
   "source": [
    "# Adaboost\n",
    "from sklearn.ensemble import AdaBoostClassifier\n",
    "SVC_adaboost = AdaBoostClassifier(LinearSVC(C=1, tol=1e-5),n_estimators=50,algorithm='SAMME')\n",
    "Bayes_adaboost = AdaBoostClassifier(MultinomialNB(alpha=0.001),n_estimators=50,algorithm='SAMME')\n",
    "Tree_adaboost = AdaBoostClassifier(DecisionTreeClassifier(),n_estimators=50,algorithm='SAMME')\n",
    "\n",
    "SVC_adaboost.fit(y_train, X_train)\n",
    "Bayes_adaboost.fit(y_train, X_train)\n",
    "Tree_adaboost.fit(y_train, X_train)\n",
    "\n",
    "SVC_adaboost_predicted = SVC_adaboost.predict(test_bunch.tfidf_weight_matrices)\n",
    "Bayes_adaboost_predicted = Bayes_adaboost.predict(test_bunch.tfidf_weight_matrices)\n",
    "Tree_adaboost_predicted = Tree_adaboost.predict(test_bunch.tfidf_weight_matrices)\n",
    "\n",
    "print(\"----------------SVM----------------\")\n",
    "print(classification_report(test_bunch.label, SVC_adaboost_predicted))\t# 打印结果\n",
    "print(\"----------------Bayes----------------\")\n",
    "print(classification_report(test_bunch.label, Bayes_adaboost_predicted))\t# 打印结果\n",
    "print(\"----------------Tree----------------\")\n",
    "print(classification_report(test_bunch.label, Tree_adaboost_predicted))\t# 打印结果"
   ],
   "metadata": {
    "collapsed": false,
    "pycharm": {
     "name": "#%%\n",
     "is_executing": true
    }
   }
  }
 ],
 "metadata": {
  "kernelspec": {
   "display_name": "Python 3",
   "language": "python",
   "name": "python3"
  },
  "language_info": {
   "codemirror_mode": {
    "name": "ipython",
    "version": 2
   },
   "file_extension": ".py",
   "mimetype": "text/x-python",
   "name": "python",
   "nbconvert_exporter": "python",
   "pygments_lexer": "ipython2",
   "version": "2.7.6"
  }
 },
 "nbformat": 4,
 "nbformat_minor": 0
}