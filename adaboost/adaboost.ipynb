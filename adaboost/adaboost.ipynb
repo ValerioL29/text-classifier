{
 "cells": [
  {
   "cell_type": "code",
   "execution_count": 48,
   "metadata": {
    "collapsed": true,
    "pycharm": {
     "name": "#%%\n"
    }
   },
   "outputs": [],
   "source": [
    "# 导入数据集\n",
    "import pickle\n",
    "from sklearn.metrics import classification_report\n",
    "\n",
    "with open('../preprocess/train/train_bag.pickle', 'rb') as file_obj:\n",
    "    train_bunch = pickle.load(file_obj)\n",
    "with open('../preprocess/test/test_bag.pickle', 'rb') as file_obj:\n",
    "    test_bunch = pickle.load(file_obj)"
   ]
  },
  {
   "cell_type": "code",
   "execution_count": 49,
   "outputs": [],
   "source": [
    "X_train = train_bunch.tfidf_weight_matrices\n",
    "y_train = train_bunch.label"
   ],
   "metadata": {
    "collapsed": false,
    "pycharm": {
     "name": "#%%\n"
    }
   }
  },
  {
   "cell_type": "code",
   "execution_count": 50,
   "outputs": [
    {
     "name": "stdout",
     "output_type": "stream",
     "text": [
      "----------------Single SVM----------------\n",
      "              precision    recall  f1-score   support\n",
      "\n",
      "          体育       1.00      1.00      1.00      1000\n",
      "          娱乐       0.97      0.98      0.98      1000\n",
      "          教育       0.92      0.87      0.90      1000\n",
      "          时尚       0.94      0.96      0.95      1000\n",
      "          时政       0.96      0.93      0.95      1000\n",
      "          游戏       0.97      0.97      0.97      1000\n",
      "          社会       0.93      0.90      0.91      1000\n",
      "          科技       0.91      0.92      0.91      1000\n",
      "          股票       0.95      0.97      0.96      1000\n",
      "          财经       0.94      0.98      0.96      1000\n",
      "\n",
      "    accuracy                           0.95     10000\n",
      "   macro avg       0.95      0.95      0.95     10000\n",
      "weighted avg       0.95      0.95      0.95     10000\n",
      "\n"
     ]
    }
   ],
   "source": [
    "# 单SVM\n",
    "from sklearn.svm import LinearSVC\n",
    "SVM = LinearSVC(C=1, tol=1e-5)\n",
    "SVM.fit(X_train, y_train)\n",
    "svm_predicted = SVM.predict(test_bunch.tfidf_weight_matrices)\n",
    "print(\"----------------Single SVM----------------\")\n",
    "print(classification_report(test_bunch.label, svm_predicted))\t# 打印结果"
   ],
   "metadata": {
    "collapsed": false,
    "pycharm": {
     "name": "#%%\n"
    }
   }
  },
  {
   "cell_type": "code",
   "execution_count": 51,
   "outputs": [
    {
     "name": "stdout",
     "output_type": "stream",
     "text": [
      "----------------Single Bayes----------------\n",
      "              precision    recall  f1-score   support\n",
      "\n",
      "          体育       0.98      0.98      0.98      1000\n",
      "          娱乐       0.91      0.98      0.94      1000\n",
      "          教育       0.90      0.86      0.88      1000\n",
      "          时尚       0.97      0.94      0.95      1000\n",
      "          时政       0.97      0.90      0.93      1000\n",
      "          游戏       0.84      0.96      0.89      1000\n",
      "          社会       0.91      0.88      0.89      1000\n",
      "          科技       0.90      0.82      0.86      1000\n",
      "          股票       0.98      0.99      0.98      1000\n",
      "          财经       0.95      0.98      0.97      1000\n",
      "\n",
      "    accuracy                           0.93     10000\n",
      "   macro avg       0.93      0.93      0.93     10000\n",
      "weighted avg       0.93      0.93      0.93     10000\n",
      "\n"
     ]
    }
   ],
   "source": [
    "# 单Bayes\n",
    "from sklearn.naive_bayes import MultinomialNB\n",
    "Bayes = MultinomialNB(alpha=0.001)\n",
    "Bayes.fit(X_train, y_train)\n",
    "bayes_predicted = Bayes.predict(test_bunch.tfidf_weight_matrices)\n",
    "print(\"----------------Single Bayes----------------\")\n",
    "print(classification_report(test_bunch.label, bayes_predicted))\t# 打印结果"
   ],
   "metadata": {
    "collapsed": false,
    "pycharm": {
     "name": "#%%\n"
    }
   }
  },
  {
   "cell_type": "code",
   "execution_count": 52,
   "outputs": [
    {
     "name": "stdout",
     "output_type": "stream",
     "text": [
      "----------------Single Tree----------------\n",
      "              precision    recall  f1-score   support\n",
      "\n",
      "          体育       0.98      0.96      0.97      1000\n",
      "          娱乐       0.94      0.91      0.93      1000\n",
      "          教育       0.78      0.72      0.75      1000\n",
      "          时尚       0.78      0.88      0.83      1000\n",
      "          时政       0.80      0.78      0.79      1000\n",
      "          游戏       0.83      0.88      0.85      1000\n",
      "          社会       0.78      0.76      0.77      1000\n",
      "          科技       0.79      0.61      0.69      1000\n",
      "          股票       0.83      0.83      0.83      1000\n",
      "          财经       0.78      0.95      0.86      1000\n",
      "\n",
      "    accuracy                           0.83     10000\n",
      "   macro avg       0.83      0.83      0.83     10000\n",
      "weighted avg       0.83      0.83      0.83     10000\n",
      "\n"
     ]
    }
   ],
   "source": [
    "# 单决策树\n",
    "from sklearn.tree import DecisionTreeClassifier\n",
    "Tree = DecisionTreeClassifier()\n",
    "Tree.fit(X_train, y_train)\n",
    "tree_predicted = Tree.predict(test_bunch.tfidf_weight_matrices)\n",
    "print(\"----------------Single Tree----------------\")\n",
    "print(classification_report(test_bunch.label, tree_predicted))\t# 打印结果"
   ],
   "metadata": {
    "collapsed": false,
    "pycharm": {
     "name": "#%%\n"
    }
   }
  },
  {
   "cell_type": "code",
   "execution_count": 53,
   "outputs": [],
   "source": [
    "# Adaboost\n",
    "from sklearn.ensemble import AdaBoostClassifier\n",
    "import time\n",
    "# 每个adaboost模型都有50个弱分类器\n",
    "# 使用分类器对样本集预测错误的概率进行划分\n",
    "SVC_adaboost = AdaBoostClassifier(LinearSVC(C=1, tol=1e-5),n_estimators=20,algorithm='SAMME')\n",
    "Bayes_adaboost = AdaBoostClassifier(MultinomialNB(alpha=0.001),n_estimators=20,algorithm='SAMME.R')\n",
    "Tree_adaboost = AdaBoostClassifier(DecisionTreeClassifier(),n_estimators=20,algorithm='SAMME.R')"
   ],
   "metadata": {
    "collapsed": false,
    "pycharm": {
     "name": "#%%\n"
    }
   }
  },
  {
   "cell_type": "code",
   "execution_count": 54,
   "outputs": [
    {
     "name": "stdout",
     "output_type": "stream",
     "text": [
      "Start SVM Training\n",
      "SVM Training Time: 32.09978199005127\n",
      "----------------SVM----------------\n",
      "              precision    recall  f1-score   support\n",
      "\n",
      "          体育       0.99      0.99      0.99      1000\n",
      "          娱乐       0.93      0.97      0.95      1000\n",
      "          教育       0.84      0.79      0.82      1000\n",
      "          时尚       0.78      0.96      0.86      1000\n",
      "          时政       0.96      0.85      0.90      1000\n",
      "          游戏       0.81      0.96      0.88      1000\n",
      "          社会       0.88      0.84      0.86      1000\n",
      "          科技       0.86      0.54      0.66      1000\n",
      "          股票       0.94      0.98      0.96      1000\n",
      "          财经       0.91      0.98      0.94      1000\n",
      "\n",
      "    accuracy                           0.89     10000\n",
      "   macro avg       0.89      0.89      0.88     10000\n",
      "weighted avg       0.89      0.89      0.88     10000\n",
      "\n"
     ]
    }
   ],
   "source": [
    "start = time.time()\n",
    "print(\"Start SVM Training\")\n",
    "SVC_adaboost.fit(X_train, y_train)\n",
    "SVC_train_time = time.time() - start\n",
    "print(\"SVM Training Time: \" + str(SVC_train_time))\n",
    "\n",
    "SVC_adaboost_predicted = SVC_adaboost.predict(test_bunch.tfidf_weight_matrices)\n",
    "\n",
    "print(\"----------------SVM----------------\")\n",
    "print(classification_report(test_bunch.label, SVC_adaboost_predicted))\t# 打印结果"
   ],
   "metadata": {
    "collapsed": false,
    "pycharm": {
     "name": "#%%\n"
    }
   }
  },
  {
   "cell_type": "code",
   "execution_count": 55,
   "outputs": [
    {
     "name": "stdout",
     "output_type": "stream",
     "text": [
      "Start Bayes Training\n",
      "Bayes Training Time: 2.1556735038757324\n",
      "----------------Bayes----------------\n",
      "              precision    recall  f1-score   support\n",
      "\n",
      "          体育       1.00      0.97      0.99      1000\n",
      "          娱乐       0.98      0.96      0.97      1000\n",
      "          教育       0.90      0.88      0.89      1000\n",
      "          时尚       0.92      0.97      0.94      1000\n",
      "          时政       0.96      0.90      0.93      1000\n",
      "          游戏       0.95      0.97      0.96      1000\n",
      "          社会       0.91      0.90      0.91      1000\n",
      "          科技       0.91      0.88      0.90      1000\n",
      "          股票       0.92      0.98      0.95      1000\n",
      "          财经       0.93      0.97      0.95      1000\n",
      "\n",
      "    accuracy                           0.94     10000\n",
      "   macro avg       0.94      0.94      0.94     10000\n",
      "weighted avg       0.94      0.94      0.94     10000\n",
      "\n"
     ]
    }
   ],
   "source": [
    "start = time.time()\n",
    "print(\"Start Bayes Training\")\n",
    "Bayes_adaboost.fit(X_train, y_train)\n",
    "Bayes_train_time = time.time() - start\n",
    "print(\"Bayes Training Time: \" + str(Bayes_train_time))\n",
    "\n",
    "Bayes_adaboost_predicted = Bayes_adaboost.predict(test_bunch.tfidf_weight_matrices)\n",
    "\n",
    "print(\"----------------Bayes----------------\")\n",
    "print(classification_report(test_bunch.label, Bayes_adaboost_predicted))\t# 打印结果"
   ],
   "metadata": {
    "collapsed": false,
    "pycharm": {
     "name": "#%%\n"
    }
   }
  },
  {
   "cell_type": "code",
   "execution_count": 56,
   "outputs": [
    {
     "name": "stdout",
     "output_type": "stream",
     "text": [
      "Start Tree Training\n",
      "Tree Training Time: 220.5449857711792\n",
      "----------------Tree----------------\n",
      "              precision    recall  f1-score   support\n",
      "\n",
      "          体育       0.99      0.99      0.99      1000\n",
      "          娱乐       0.94      0.93      0.94      1000\n",
      "          教育       0.82      0.69      0.75      1000\n",
      "          时尚       0.84      0.90      0.87      1000\n",
      "          时政       0.72      0.92      0.80      1000\n",
      "          游戏       0.86      0.91      0.88      1000\n",
      "          社会       0.86      0.81      0.83      1000\n",
      "          科技       0.86      0.68      0.76      1000\n",
      "          股票       0.91      0.84      0.87      1000\n",
      "          财经       0.86      0.96      0.91      1000\n",
      "\n",
      "    accuracy                           0.86     10000\n",
      "   macro avg       0.87      0.86      0.86     10000\n",
      "weighted avg       0.87      0.86      0.86     10000\n",
      "\n"
     ]
    }
   ],
   "source": [
    "start = time.time()\n",
    "print(\"Start Tree Training\")\n",
    "Tree_adaboost.fit(X_train, y_train)\n",
    "Tree_train_time = time.time() - start\n",
    "print(\"Tree Training Time: \" + str(Tree_train_time))\n",
    "\n",
    "Tree_adaboost_predicted = Tree_adaboost.predict(test_bunch.tfidf_weight_matrices)\n",
    "\n",
    "print(\"----------------Tree----------------\")\n",
    "print(classification_report(test_bunch.label, Tree_adaboost_predicted))\t# 打印结果"
   ],
   "metadata": {
    "collapsed": false,
    "pycharm": {
     "name": "#%%\n"
    }
   }
  },
  {
   "cell_type": "code",
   "execution_count": 57,
   "outputs": [],
   "source": [
    "# 混合型Adaboost\n",
    "import matplotlib\n",
    "import matplotlib.pyplot as plt\n",
    "from numpy import *"
   ],
   "metadata": {
    "collapsed": false,
    "pycharm": {
     "name": "#%%\n"
    }
   }
  }
 ],
 "metadata": {
  "kernelspec": {
   "display_name": "Python 3",
   "language": "python",
   "name": "python3"
  },
  "language_info": {
   "codemirror_mode": {
    "name": "ipython",
    "version": 2
   },
   "file_extension": ".py",
   "mimetype": "text/x-python",
   "name": "python",
   "nbconvert_exporter": "python",
   "pygments_lexer": "ipython2",
   "version": "2.7.6"
  }
 },
 "nbformat": 4,
 "nbformat_minor": 0
}