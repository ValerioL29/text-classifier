{
 "cells": [
  {
   "cell_type": "code",
   "execution_count": 23,
   "metadata": {
    "collapsed": true,
    "pycharm": {
     "name": "#%%\n"
    }
   },
   "outputs": [],
   "source": [
    "# 导入数据集\n",
    "import pickle\n",
    "\n",
    "with open('../preprocess/train/train_bag.pickle', 'rb') as file_obj:\n",
    "    train_bunch = pickle.load(file_obj)\n",
    "with open('../preprocess/test/test_bag.pickle', 'rb') as file_obj:\n",
    "    test_bunch = pickle.load(file_obj)"
   ]
  },
  {
   "cell_type": "code",
   "execution_count": 24,
   "outputs": [],
   "source": [
    "X_train = train_bunch.label\n",
    "y_train = train_bunch.tfidf_weight_matrices"
   ],
   "metadata": {
    "collapsed": false,
    "pycharm": {
     "name": "#%%\n"
    }
   }
  },
  {
   "cell_type": "code",
   "execution_count": 25,
   "outputs": [],
   "source": [
    "# 单SVM\n",
    "from sklearn.svm import LinearSVC\n",
    "SVM = LinearSVC(C=1, tol=1e-5)\n",
    "SVM.fit(y_train, X_train)\n",
    "svm_predicted = SVM.predict(test_bunch.tfidf_weight_matrices)"
   ],
   "metadata": {
    "collapsed": false,
    "pycharm": {
     "name": "#%%\n"
    }
   }
  },
  {
   "cell_type": "code",
   "execution_count": 26,
   "outputs": [],
   "source": [
    "# 单Bayes\n",
    "from sklearn.naive_bayes import MultinomialNB\n",
    "Bayes = MultinomialNB(alpha=0.001)\n",
    "Bayes.fit(y_train, X_train)\n",
    "bayes_predicted = Bayes.predict(test_bunch.tfidf_weight_matrices)"
   ],
   "metadata": {
    "collapsed": false,
    "pycharm": {
     "name": "#%%\n"
    }
   }
  },
  {
   "cell_type": "code",
   "execution_count": 27,
   "outputs": [],
   "source": [
    "# 单决策树\n",
    "from sklearn.tree import DecisionTreeClassifier\n",
    "Tree = DecisionTreeClassifier()\n",
    "Tree.fit(y_train, X_train)\n",
    "tree_predicted = Tree.predict(test_bunch.tfidf_weight_matrices)"
   ],
   "metadata": {
    "collapsed": false,
    "pycharm": {
     "name": "#%%\n"
    }
   }
  },
  {
   "cell_type": "code",
   "execution_count": 28,
   "outputs": [
    {
     "name": "stdout",
     "output_type": "stream",
     "text": [
      "----------------SVM----------------\n",
      "              precision    recall  f1-score   support\n",
      "\n",
      "          体育       1.00      1.00      1.00      1000\n",
      "          娱乐       0.97      0.98      0.98      1000\n",
      "          教育       0.92      0.87      0.90      1000\n",
      "          时尚       0.94      0.96      0.95      1000\n",
      "          时政       0.96      0.93      0.95      1000\n",
      "          游戏       0.97      0.97      0.97      1000\n",
      "          社会       0.93      0.90      0.91      1000\n",
      "          科技       0.91      0.92      0.91      1000\n",
      "          股票       0.95      0.97      0.96      1000\n",
      "          财经       0.94      0.98      0.96      1000\n",
      "\n",
      "    accuracy                           0.95     10000\n",
      "   macro avg       0.95      0.95      0.95     10000\n",
      "weighted avg       0.95      0.95      0.95     10000\n",
      "\n",
      "----------------Bayes----------------\n",
      "              precision    recall  f1-score   support\n",
      "\n",
      "          体育       0.98      0.98      0.98      1000\n",
      "          娱乐       0.91      0.98      0.94      1000\n",
      "          教育       0.90      0.86      0.88      1000\n",
      "          时尚       0.97      0.94      0.95      1000\n",
      "          时政       0.97      0.90      0.93      1000\n",
      "          游戏       0.84      0.96      0.89      1000\n",
      "          社会       0.91      0.88      0.89      1000\n",
      "          科技       0.90      0.82      0.86      1000\n",
      "          股票       0.98      0.99      0.98      1000\n",
      "          财经       0.95      0.98      0.97      1000\n",
      "\n",
      "    accuracy                           0.93     10000\n",
      "   macro avg       0.93      0.93      0.93     10000\n",
      "weighted avg       0.93      0.93      0.93     10000\n",
      "\n",
      "----------------Tree----------------\n",
      "              precision    recall  f1-score   support\n",
      "\n",
      "          体育       0.98      0.96      0.97      1000\n",
      "          娱乐       0.92      0.92      0.92      1000\n",
      "          教育       0.79      0.72      0.75      1000\n",
      "          时尚       0.77      0.88      0.82      1000\n",
      "          时政       0.78      0.78      0.78      1000\n",
      "          游戏       0.83      0.88      0.85      1000\n",
      "          社会       0.79      0.77      0.78      1000\n",
      "          科技       0.79      0.59      0.68      1000\n",
      "          股票       0.84      0.84      0.84      1000\n",
      "          财经       0.79      0.95      0.86      1000\n",
      "\n",
      "    accuracy                           0.83     10000\n",
      "   macro avg       0.83      0.83      0.83     10000\n",
      "weighted avg       0.83      0.83      0.83     10000\n",
      "\n"
     ]
    }
   ],
   "source": [
    "from sklearn.metrics import classification_report\n",
    "print(\"----------------SVM----------------\")\n",
    "print(classification_report(test_bunch.label, svm_predicted))\t# 打印结果\n",
    "print(\"----------------Bayes----------------\")\n",
    "print(classification_report(test_bunch.label, bayes_predicted))\t# 打印结果\n",
    "print(\"----------------Tree----------------\")\n",
    "print(classification_report(test_bunch.label, tree_predicted))\t# 打印结果"
   ],
   "metadata": {
    "collapsed": false,
    "pycharm": {
     "name": "#%%\n"
    }
   }
  },
  {
   "cell_type": "code",
   "execution_count": 36,
   "outputs": [
    {
     "name": "stdout",
     "output_type": "stream",
     "text": [
      "Start SVM Training\n",
      "SVM Training Time: 88.95758128166199\n",
      "Start Bayes Training\n",
      "Bayes Training Time: 5.5096070766448975\n",
      "Start Tree Training\n",
      "Tree Training Time: 582.570562839508\n",
      "----------------SVM----------------\n",
      "              precision    recall  f1-score   support\n",
      "\n",
      "          体育       0.99      0.98      0.99      1000\n",
      "          娱乐       0.93      0.97      0.95      1000\n",
      "          教育       0.84      0.80      0.82      1000\n",
      "          时尚       0.80      0.96      0.87      1000\n",
      "          时政       0.96      0.85      0.90      1000\n",
      "          游戏       0.82      0.96      0.88      1000\n",
      "          社会       0.88      0.86      0.87      1000\n",
      "          科技       0.86      0.57      0.69      1000\n",
      "          股票       0.94      0.98      0.96      1000\n",
      "          财经       0.91      0.98      0.94      1000\n",
      "\n",
      "    accuracy                           0.89     10000\n",
      "   macro avg       0.89      0.89      0.89     10000\n",
      "weighted avg       0.89      0.89      0.89     10000\n",
      "\n",
      "----------------Bayes----------------\n",
      "              precision    recall  f1-score   support\n",
      "\n",
      "          体育       1.00      0.96      0.98      1000\n",
      "          娱乐       0.98      0.97      0.97      1000\n",
      "          教育       0.89      0.87      0.88      1000\n",
      "          时尚       0.92      0.96      0.94      1000\n",
      "          时政       0.95      0.88      0.91      1000\n",
      "          游戏       0.95      0.97      0.96      1000\n",
      "          社会       0.91      0.90      0.91      1000\n",
      "          科技       0.91      0.89      0.90      1000\n",
      "          股票       0.91      0.97      0.94      1000\n",
      "          财经       0.93      0.97      0.95      1000\n",
      "\n",
      "    accuracy                           0.93     10000\n",
      "   macro avg       0.93      0.93      0.93     10000\n",
      "weighted avg       0.93      0.93      0.93     10000\n",
      "\n",
      "----------------Tree----------------\n",
      "              precision    recall  f1-score   support\n",
      "\n",
      "          体育       0.98      0.99      0.98      1000\n",
      "          娱乐       0.95      0.88      0.92      1000\n",
      "          教育       0.83      0.64      0.72      1000\n",
      "          时尚       0.84      0.89      0.87      1000\n",
      "          时政       0.62      0.95      0.75      1000\n",
      "          游戏       0.90      0.92      0.91      1000\n",
      "          社会       0.86      0.77      0.81      1000\n",
      "          科技       0.88      0.71      0.79      1000\n",
      "          股票       0.92      0.81      0.86      1000\n",
      "          财经       0.87      0.94      0.90      1000\n",
      "\n",
      "    accuracy                           0.85     10000\n",
      "   macro avg       0.87      0.85      0.85     10000\n",
      "weighted avg       0.87      0.85      0.85     10000\n",
      "\n"
     ]
    }
   ],
   "source": [
    "# Adaboost\n",
    "from sklearn.ensemble import AdaBoostClassifier\n",
    "import time\n",
    "# 每个adaboost模型都有50个弱分类器\n",
    "# 使用分类器对样本集预测错误的概率进行划分\n",
    "SVC_adaboost = AdaBoostClassifier(LinearSVC(C=1, tol=1e-5),n_estimators=50,algorithm='SAMME')\n",
    "Bayes_adaboost = AdaBoostClassifier(MultinomialNB(alpha=0.001),n_estimators=50,algorithm='SAMME.R')\n",
    "Tree_adaboost = AdaBoostClassifier(DecisionTreeClassifier(),n_estimators=50,algorithm='SAMME.R')\n",
    "\n",
    "start = time.time()\n",
    "print(\"Start SVM Training\")\n",
    "SVC_adaboost.fit(y_train, X_train)\n",
    "SVC_train_time = time.time() - start\n",
    "print(\"SVM Training Time: \" + str(SVC_train_time))\n",
    "\n",
    "start = time.time()\n",
    "print(\"Start Bayes Training\")\n",
    "Bayes_adaboost.fit(y_train, X_train)\n",
    "Bayes_train_time = time.time() - start\n",
    "print(\"Bayes Training Time: \" + str(Bayes_train_time))\n",
    "\n",
    "start = time.time()\n",
    "print(\"Start Tree Training\")\n",
    "Tree_adaboost.fit(y_train, X_train)\n",
    "Tree_train_time = time.time() - start\n",
    "print(\"Tree Training Time: \" + str(Tree_train_time))\n",
    "\n",
    "SVC_adaboost_predicted = SVC_adaboost.predict(test_bunch.tfidf_weight_matrices)\n",
    "Bayes_adaboost_predicted = Bayes_adaboost.predict(test_bunch.tfidf_weight_matrices)\n",
    "Tree_adaboost_predicted = Tree_adaboost.predict(test_bunch.tfidf_weight_matrices)\n",
    "\n",
    "print(\"----------------SVM----------------\")\n",
    "print(classification_report(test_bunch.label, SVC_adaboost_predicted))\t# 打印结果\n",
    "print(\"----------------Bayes----------------\")\n",
    "print(classification_report(test_bunch.label, Bayes_adaboost_predicted))\t# 打印结果\n",
    "print(\"----------------Tree----------------\")\n",
    "print(classification_report(test_bunch.label, Tree_adaboost_predicted))\t# 打印结果"
   ],
   "metadata": {
    "collapsed": false,
    "pycharm": {
     "name": "#%%\n"
    }
   }
  },
  {
   "cell_type": "code",
   "execution_count": 37,
   "outputs": [
    {
     "ename": "AttributeError",
     "evalue": "'list' object has no attribute 'shape'",
     "output_type": "error",
     "traceback": [
      "\u001B[1;31m---------------------------------------------------------------------------\u001B[0m",
      "\u001B[1;31mAttributeError\u001B[0m                            Traceback (most recent call last)",
      "Input \u001B[1;32mIn [37]\u001B[0m, in \u001B[0;36m<cell line: 19>\u001B[1;34m()\u001B[0m\n\u001B[0;32m     16\u001B[0m     \u001B[38;5;28;01mreturn\u001B[39;00m dataMat, labelList  \u001B[38;5;66;03m# 数据集返回的是矩阵类型，标签返回的是列表类型\u001B[39;00m\n\u001B[0;32m     18\u001B[0m dataMat, labelList \u001B[38;5;241m=\u001B[39m loadDataSet()  \u001B[38;5;66;03m# 加载数据集\u001B[39;00m\n\u001B[1;32m---> 19\u001B[0m \u001B[43mX_train\u001B[49m\u001B[38;5;241;43m.\u001B[39;49m\u001B[43mshape\u001B[49m, y_train\u001B[38;5;241m.\u001B[39mshape, dataMat\u001B[38;5;241m.\u001B[39mshape, labelList\u001B[38;5;241m.\u001B[39mshape\n",
      "\u001B[1;31mAttributeError\u001B[0m: 'list' object has no attribute 'shape'"
     ]
    }
   ],
   "source": [
    "# 混合型Adaboost\n",
    "import matplotlib\n",
    "import matplotlib.pyplot as plt\n",
    "from numpy import *"
   ],
   "metadata": {
    "collapsed": false,
    "pycharm": {
     "name": "#%%\n"
    }
   }
  }
 ],
 "metadata": {
  "kernelspec": {
   "display_name": "Python 3",
   "language": "python",
   "name": "python3"
  },
  "language_info": {
   "codemirror_mode": {
    "name": "ipython",
    "version": 2
   },
   "file_extension": ".py",
   "mimetype": "text/x-python",
   "name": "python",
   "nbconvert_exporter": "python",
   "pygments_lexer": "ipython2",
   "version": "2.7.6"
  }
 },
 "nbformat": 4,
 "nbformat_minor": 0
}