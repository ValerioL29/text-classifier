{
 "cells": [
  {
   "cell_type": "code",
   "execution_count": 1,
   "metadata": {
    "collapsed": true,
    "pycharm": {
     "name": "#%%\n"
    }
   },
   "outputs": [],
   "source": [
    "# 导入数据集\n",
    "import pickle\n",
    "\n",
    "with open('../preprocess/train/train_bag.pickle', 'rb') as file_obj:\n",
    "    train_bunch = pickle.load(file_obj)\n",
    "with open('../preprocess/test/test_bag.pickle', 'rb') as file_obj:\n",
    "    test_bunch = pickle.load(file_obj)"
   ]
  },
  {
   "cell_type": "code",
   "execution_count": 11,
   "outputs": [
    {
     "ename": "KeyboardInterrupt",
     "evalue": "",
     "output_type": "error",
     "traceback": [
      "\u001B[1;31m---------------------------------------------------------------------------\u001B[0m",
      "\u001B[1;31mKeyboardInterrupt\u001B[0m                         Traceback (most recent call last)",
      "Input \u001B[1;32mIn [11]\u001B[0m, in \u001B[0;36m<cell line: 10>\u001B[1;34m()\u001B[0m\n\u001B[0;32m      6\u001B[0m y_train \u001B[38;5;241m=\u001B[39m train_bunch\u001B[38;5;241m.\u001B[39mtfidf_weight_matrices\n\u001B[0;32m      8\u001B[0m clf \u001B[38;5;241m=\u001B[39m AdaBoostClassifier(LinearSVC(C\u001B[38;5;241m=\u001B[39m\u001B[38;5;241m1\u001B[39m, tol\u001B[38;5;241m=\u001B[39m\u001B[38;5;241m1e-5\u001B[39m),n_estimators\u001B[38;5;241m=\u001B[39m\u001B[38;5;241m50\u001B[39m,algorithm\u001B[38;5;241m=\u001B[39m\u001B[38;5;124m'\u001B[39m\u001B[38;5;124mSAMME\u001B[39m\u001B[38;5;124m'\u001B[39m)\n\u001B[1;32m---> 10\u001B[0m \u001B[43mclf\u001B[49m\u001B[38;5;241;43m.\u001B[39;49m\u001B[43mfit\u001B[49m\u001B[43m(\u001B[49m\u001B[43my_train\u001B[49m\u001B[43m,\u001B[49m\u001B[43m \u001B[49m\u001B[43mX_train\u001B[49m\u001B[43m)\u001B[49m\n",
      "File \u001B[1;32mF:\\anaconda3\\envs\\Text_Classifier\\lib\\site-packages\\sklearn\\ensemble\\_weight_boosting.py:506\u001B[0m, in \u001B[0;36mAdaBoostClassifier.fit\u001B[1;34m(self, X, y, sample_weight)\u001B[0m\n\u001B[0;32m    500\u001B[0m     \u001B[38;5;28;01mraise\u001B[39;00m \u001B[38;5;167;01mValueError\u001B[39;00m(\n\u001B[0;32m    501\u001B[0m         \u001B[38;5;124m\"\u001B[39m\u001B[38;5;124mAlgorithm must be \u001B[39m\u001B[38;5;124m'\u001B[39m\u001B[38;5;124mSAMME\u001B[39m\u001B[38;5;124m'\u001B[39m\u001B[38;5;124m or \u001B[39m\u001B[38;5;124m'\u001B[39m\u001B[38;5;124mSAMME.R\u001B[39m\u001B[38;5;124m'\u001B[39m\u001B[38;5;124m.\u001B[39m\u001B[38;5;124m\"\u001B[39m\n\u001B[0;32m    502\u001B[0m         \u001B[38;5;124mf\u001B[39m\u001B[38;5;124m\"\u001B[39m\u001B[38;5;124m Got \u001B[39m\u001B[38;5;132;01m{\u001B[39;00m\u001B[38;5;28mself\u001B[39m\u001B[38;5;241m.\u001B[39malgorithm\u001B[38;5;132;01m!r}\u001B[39;00m\u001B[38;5;124m instead.\u001B[39m\u001B[38;5;124m\"\u001B[39m\n\u001B[0;32m    503\u001B[0m     )\n\u001B[0;32m    505\u001B[0m \u001B[38;5;66;03m# Fit\u001B[39;00m\n\u001B[1;32m--> 506\u001B[0m \u001B[38;5;28;01mreturn\u001B[39;00m \u001B[38;5;28;43msuper\u001B[39;49m\u001B[43m(\u001B[49m\u001B[43m)\u001B[49m\u001B[38;5;241;43m.\u001B[39;49m\u001B[43mfit\u001B[49m\u001B[43m(\u001B[49m\u001B[43mX\u001B[49m\u001B[43m,\u001B[49m\u001B[43m \u001B[49m\u001B[43my\u001B[49m\u001B[43m,\u001B[49m\u001B[43m \u001B[49m\u001B[43msample_weight\u001B[49m\u001B[43m)\u001B[49m\n",
      "File \u001B[1;32mF:\\anaconda3\\envs\\Text_Classifier\\lib\\site-packages\\sklearn\\ensemble\\_weight_boosting.py:160\u001B[0m, in \u001B[0;36mBaseWeightBoosting.fit\u001B[1;34m(self, X, y, sample_weight)\u001B[0m\n\u001B[0;32m    156\u001B[0m random_state \u001B[38;5;241m=\u001B[39m check_random_state(\u001B[38;5;28mself\u001B[39m\u001B[38;5;241m.\u001B[39mrandom_state)\n\u001B[0;32m    158\u001B[0m \u001B[38;5;28;01mfor\u001B[39;00m iboost \u001B[38;5;129;01min\u001B[39;00m \u001B[38;5;28mrange\u001B[39m(\u001B[38;5;28mself\u001B[39m\u001B[38;5;241m.\u001B[39mn_estimators):\n\u001B[0;32m    159\u001B[0m     \u001B[38;5;66;03m# Boosting step\u001B[39;00m\n\u001B[1;32m--> 160\u001B[0m     sample_weight, estimator_weight, estimator_error \u001B[38;5;241m=\u001B[39m \u001B[38;5;28;43mself\u001B[39;49m\u001B[38;5;241;43m.\u001B[39;49m\u001B[43m_boost\u001B[49m\u001B[43m(\u001B[49m\n\u001B[0;32m    161\u001B[0m \u001B[43m        \u001B[49m\u001B[43miboost\u001B[49m\u001B[43m,\u001B[49m\u001B[43m \u001B[49m\u001B[43mX\u001B[49m\u001B[43m,\u001B[49m\u001B[43m \u001B[49m\u001B[43my\u001B[49m\u001B[43m,\u001B[49m\u001B[43m \u001B[49m\u001B[43msample_weight\u001B[49m\u001B[43m,\u001B[49m\u001B[43m \u001B[49m\u001B[43mrandom_state\u001B[49m\n\u001B[0;32m    162\u001B[0m \u001B[43m    \u001B[49m\u001B[43m)\u001B[49m\n\u001B[0;32m    164\u001B[0m     \u001B[38;5;66;03m# Early termination\u001B[39;00m\n\u001B[0;32m    165\u001B[0m     \u001B[38;5;28;01mif\u001B[39;00m sample_weight \u001B[38;5;129;01mis\u001B[39;00m \u001B[38;5;28;01mNone\u001B[39;00m:\n",
      "File \u001B[1;32mF:\\anaconda3\\envs\\Text_Classifier\\lib\\site-packages\\sklearn\\ensemble\\_weight_boosting.py:571\u001B[0m, in \u001B[0;36mAdaBoostClassifier._boost\u001B[1;34m(self, iboost, X, y, sample_weight, random_state)\u001B[0m\n\u001B[0;32m    568\u001B[0m     \u001B[38;5;28;01mreturn\u001B[39;00m \u001B[38;5;28mself\u001B[39m\u001B[38;5;241m.\u001B[39m_boost_real(iboost, X, y, sample_weight, random_state)\n\u001B[0;32m    570\u001B[0m \u001B[38;5;28;01melse\u001B[39;00m:  \u001B[38;5;66;03m# elif self.algorithm == \"SAMME\":\u001B[39;00m\n\u001B[1;32m--> 571\u001B[0m     \u001B[38;5;28;01mreturn\u001B[39;00m \u001B[38;5;28;43mself\u001B[39;49m\u001B[38;5;241;43m.\u001B[39;49m\u001B[43m_boost_discrete\u001B[49m\u001B[43m(\u001B[49m\u001B[43miboost\u001B[49m\u001B[43m,\u001B[49m\u001B[43m \u001B[49m\u001B[43mX\u001B[49m\u001B[43m,\u001B[49m\u001B[43m \u001B[49m\u001B[43my\u001B[49m\u001B[43m,\u001B[49m\u001B[43m \u001B[49m\u001B[43msample_weight\u001B[49m\u001B[43m,\u001B[49m\u001B[43m \u001B[49m\u001B[43mrandom_state\u001B[49m\u001B[43m)\u001B[49m\n",
      "File \u001B[1;32mF:\\anaconda3\\envs\\Text_Classifier\\lib\\site-packages\\sklearn\\ensemble\\_weight_boosting.py:636\u001B[0m, in \u001B[0;36mAdaBoostClassifier._boost_discrete\u001B[1;34m(self, iboost, X, y, sample_weight, random_state)\u001B[0m\n\u001B[0;32m    633\u001B[0m \u001B[38;5;124;03m\"\"\"Implement a single boost using the SAMME discrete algorithm.\"\"\"\u001B[39;00m\n\u001B[0;32m    634\u001B[0m estimator \u001B[38;5;241m=\u001B[39m \u001B[38;5;28mself\u001B[39m\u001B[38;5;241m.\u001B[39m_make_estimator(random_state\u001B[38;5;241m=\u001B[39mrandom_state)\n\u001B[1;32m--> 636\u001B[0m \u001B[43mestimator\u001B[49m\u001B[38;5;241;43m.\u001B[39;49m\u001B[43mfit\u001B[49m\u001B[43m(\u001B[49m\u001B[43mX\u001B[49m\u001B[43m,\u001B[49m\u001B[43m \u001B[49m\u001B[43my\u001B[49m\u001B[43m,\u001B[49m\u001B[43m \u001B[49m\u001B[43msample_weight\u001B[49m\u001B[38;5;241;43m=\u001B[39;49m\u001B[43msample_weight\u001B[49m\u001B[43m)\u001B[49m\n\u001B[0;32m    638\u001B[0m y_predict \u001B[38;5;241m=\u001B[39m estimator\u001B[38;5;241m.\u001B[39mpredict(X)\n\u001B[0;32m    640\u001B[0m \u001B[38;5;28;01mif\u001B[39;00m iboost \u001B[38;5;241m==\u001B[39m \u001B[38;5;241m0\u001B[39m:\n",
      "File \u001B[1;32mF:\\anaconda3\\envs\\Text_Classifier\\lib\\site-packages\\sklearn\\svm\\_classes.py:257\u001B[0m, in \u001B[0;36mLinearSVC.fit\u001B[1;34m(self, X, y, sample_weight)\u001B[0m\n\u001B[0;32m    254\u001B[0m check_classification_targets(y)\n\u001B[0;32m    255\u001B[0m \u001B[38;5;28mself\u001B[39m\u001B[38;5;241m.\u001B[39mclasses_ \u001B[38;5;241m=\u001B[39m np\u001B[38;5;241m.\u001B[39munique(y)\n\u001B[1;32m--> 257\u001B[0m \u001B[38;5;28mself\u001B[39m\u001B[38;5;241m.\u001B[39mcoef_, \u001B[38;5;28mself\u001B[39m\u001B[38;5;241m.\u001B[39mintercept_, n_iter_ \u001B[38;5;241m=\u001B[39m \u001B[43m_fit_liblinear\u001B[49m\u001B[43m(\u001B[49m\n\u001B[0;32m    258\u001B[0m \u001B[43m    \u001B[49m\u001B[43mX\u001B[49m\u001B[43m,\u001B[49m\n\u001B[0;32m    259\u001B[0m \u001B[43m    \u001B[49m\u001B[43my\u001B[49m\u001B[43m,\u001B[49m\n\u001B[0;32m    260\u001B[0m \u001B[43m    \u001B[49m\u001B[38;5;28;43mself\u001B[39;49m\u001B[38;5;241;43m.\u001B[39;49m\u001B[43mC\u001B[49m\u001B[43m,\u001B[49m\n\u001B[0;32m    261\u001B[0m \u001B[43m    \u001B[49m\u001B[38;5;28;43mself\u001B[39;49m\u001B[38;5;241;43m.\u001B[39;49m\u001B[43mfit_intercept\u001B[49m\u001B[43m,\u001B[49m\n\u001B[0;32m    262\u001B[0m \u001B[43m    \u001B[49m\u001B[38;5;28;43mself\u001B[39;49m\u001B[38;5;241;43m.\u001B[39;49m\u001B[43mintercept_scaling\u001B[49m\u001B[43m,\u001B[49m\n\u001B[0;32m    263\u001B[0m \u001B[43m    \u001B[49m\u001B[38;5;28;43mself\u001B[39;49m\u001B[38;5;241;43m.\u001B[39;49m\u001B[43mclass_weight\u001B[49m\u001B[43m,\u001B[49m\n\u001B[0;32m    264\u001B[0m \u001B[43m    \u001B[49m\u001B[38;5;28;43mself\u001B[39;49m\u001B[38;5;241;43m.\u001B[39;49m\u001B[43mpenalty\u001B[49m\u001B[43m,\u001B[49m\n\u001B[0;32m    265\u001B[0m \u001B[43m    \u001B[49m\u001B[38;5;28;43mself\u001B[39;49m\u001B[38;5;241;43m.\u001B[39;49m\u001B[43mdual\u001B[49m\u001B[43m,\u001B[49m\n\u001B[0;32m    266\u001B[0m \u001B[43m    \u001B[49m\u001B[38;5;28;43mself\u001B[39;49m\u001B[38;5;241;43m.\u001B[39;49m\u001B[43mverbose\u001B[49m\u001B[43m,\u001B[49m\n\u001B[0;32m    267\u001B[0m \u001B[43m    \u001B[49m\u001B[38;5;28;43mself\u001B[39;49m\u001B[38;5;241;43m.\u001B[39;49m\u001B[43mmax_iter\u001B[49m\u001B[43m,\u001B[49m\n\u001B[0;32m    268\u001B[0m \u001B[43m    \u001B[49m\u001B[38;5;28;43mself\u001B[39;49m\u001B[38;5;241;43m.\u001B[39;49m\u001B[43mtol\u001B[49m\u001B[43m,\u001B[49m\n\u001B[0;32m    269\u001B[0m \u001B[43m    \u001B[49m\u001B[38;5;28;43mself\u001B[39;49m\u001B[38;5;241;43m.\u001B[39;49m\u001B[43mrandom_state\u001B[49m\u001B[43m,\u001B[49m\n\u001B[0;32m    270\u001B[0m \u001B[43m    \u001B[49m\u001B[38;5;28;43mself\u001B[39;49m\u001B[38;5;241;43m.\u001B[39;49m\u001B[43mmulti_class\u001B[49m\u001B[43m,\u001B[49m\n\u001B[0;32m    271\u001B[0m \u001B[43m    \u001B[49m\u001B[38;5;28;43mself\u001B[39;49m\u001B[38;5;241;43m.\u001B[39;49m\u001B[43mloss\u001B[49m\u001B[43m,\u001B[49m\n\u001B[0;32m    272\u001B[0m \u001B[43m    \u001B[49m\u001B[43msample_weight\u001B[49m\u001B[38;5;241;43m=\u001B[39;49m\u001B[43msample_weight\u001B[49m\u001B[43m,\u001B[49m\n\u001B[0;32m    273\u001B[0m \u001B[43m\u001B[49m\u001B[43m)\u001B[49m\n\u001B[0;32m    274\u001B[0m \u001B[38;5;66;03m# Backward compatibility: _fit_liblinear is used both by LinearSVC/R\u001B[39;00m\n\u001B[0;32m    275\u001B[0m \u001B[38;5;66;03m# and LogisticRegression but LogisticRegression sets a structured\u001B[39;00m\n\u001B[0;32m    276\u001B[0m \u001B[38;5;66;03m# `n_iter_` attribute with information about the underlying OvR fits\u001B[39;00m\n\u001B[0;32m    277\u001B[0m \u001B[38;5;66;03m# while LinearSVC/R only reports the maximum value.\u001B[39;00m\n\u001B[0;32m    278\u001B[0m \u001B[38;5;28mself\u001B[39m\u001B[38;5;241m.\u001B[39mn_iter_ \u001B[38;5;241m=\u001B[39m n_iter_\u001B[38;5;241m.\u001B[39mmax()\u001B[38;5;241m.\u001B[39mitem()\n",
      "File \u001B[1;32mF:\\anaconda3\\envs\\Text_Classifier\\lib\\site-packages\\sklearn\\svm\\_base.py:1205\u001B[0m, in \u001B[0;36m_fit_liblinear\u001B[1;34m(X, y, C, fit_intercept, intercept_scaling, class_weight, penalty, dual, verbose, max_iter, tol, random_state, multi_class, loss, epsilon, sample_weight)\u001B[0m\n\u001B[0;32m   1202\u001B[0m sample_weight \u001B[38;5;241m=\u001B[39m _check_sample_weight(sample_weight, X, dtype\u001B[38;5;241m=\u001B[39mnp\u001B[38;5;241m.\u001B[39mfloat64)\n\u001B[0;32m   1204\u001B[0m solver_type \u001B[38;5;241m=\u001B[39m _get_liblinear_solver_type(multi_class, penalty, loss, dual)\n\u001B[1;32m-> 1205\u001B[0m raw_coef_, n_iter_ \u001B[38;5;241m=\u001B[39m \u001B[43mliblinear\u001B[49m\u001B[38;5;241;43m.\u001B[39;49m\u001B[43mtrain_wrap\u001B[49m\u001B[43m(\u001B[49m\n\u001B[0;32m   1206\u001B[0m \u001B[43m    \u001B[49m\u001B[43mX\u001B[49m\u001B[43m,\u001B[49m\n\u001B[0;32m   1207\u001B[0m \u001B[43m    \u001B[49m\u001B[43my_ind\u001B[49m\u001B[43m,\u001B[49m\n\u001B[0;32m   1208\u001B[0m \u001B[43m    \u001B[49m\u001B[43msp\u001B[49m\u001B[38;5;241;43m.\u001B[39;49m\u001B[43misspmatrix\u001B[49m\u001B[43m(\u001B[49m\u001B[43mX\u001B[49m\u001B[43m)\u001B[49m\u001B[43m,\u001B[49m\n\u001B[0;32m   1209\u001B[0m \u001B[43m    \u001B[49m\u001B[43msolver_type\u001B[49m\u001B[43m,\u001B[49m\n\u001B[0;32m   1210\u001B[0m \u001B[43m    \u001B[49m\u001B[43mtol\u001B[49m\u001B[43m,\u001B[49m\n\u001B[0;32m   1211\u001B[0m \u001B[43m    \u001B[49m\u001B[43mbias\u001B[49m\u001B[43m,\u001B[49m\n\u001B[0;32m   1212\u001B[0m \u001B[43m    \u001B[49m\u001B[43mC\u001B[49m\u001B[43m,\u001B[49m\n\u001B[0;32m   1213\u001B[0m \u001B[43m    \u001B[49m\u001B[43mclass_weight_\u001B[49m\u001B[43m,\u001B[49m\n\u001B[0;32m   1214\u001B[0m \u001B[43m    \u001B[49m\u001B[43mmax_iter\u001B[49m\u001B[43m,\u001B[49m\n\u001B[0;32m   1215\u001B[0m \u001B[43m    \u001B[49m\u001B[43mrnd\u001B[49m\u001B[38;5;241;43m.\u001B[39;49m\u001B[43mrandint\u001B[49m\u001B[43m(\u001B[49m\u001B[43mnp\u001B[49m\u001B[38;5;241;43m.\u001B[39;49m\u001B[43miinfo\u001B[49m\u001B[43m(\u001B[49m\u001B[38;5;124;43m\"\u001B[39;49m\u001B[38;5;124;43mi\u001B[39;49m\u001B[38;5;124;43m\"\u001B[39;49m\u001B[43m)\u001B[49m\u001B[38;5;241;43m.\u001B[39;49m\u001B[43mmax\u001B[49m\u001B[43m)\u001B[49m\u001B[43m,\u001B[49m\n\u001B[0;32m   1216\u001B[0m \u001B[43m    \u001B[49m\u001B[43mepsilon\u001B[49m\u001B[43m,\u001B[49m\n\u001B[0;32m   1217\u001B[0m \u001B[43m    \u001B[49m\u001B[43msample_weight\u001B[49m\u001B[43m,\u001B[49m\n\u001B[0;32m   1218\u001B[0m \u001B[43m\u001B[49m\u001B[43m)\u001B[49m\n\u001B[0;32m   1219\u001B[0m \u001B[38;5;66;03m# Regarding rnd.randint(..) in the above signature:\u001B[39;00m\n\u001B[0;32m   1220\u001B[0m \u001B[38;5;66;03m# seed for srand in range [0..INT_MAX); due to limitations in Numpy\u001B[39;00m\n\u001B[0;32m   1221\u001B[0m \u001B[38;5;66;03m# on 32-bit platforms, we can't get to the UINT_MAX limit that\u001B[39;00m\n\u001B[0;32m   1222\u001B[0m \u001B[38;5;66;03m# srand supports\u001B[39;00m\n\u001B[0;32m   1223\u001B[0m n_iter_max \u001B[38;5;241m=\u001B[39m \u001B[38;5;28mmax\u001B[39m(n_iter_)\n",
      "\u001B[1;31mKeyboardInterrupt\u001B[0m: "
     ]
    }
   ],
   "source": [
    "from sklearn.naive_bayes import MultinomialNB\n",
    "from sklearn.ensemble import AdaBoostClassifier\n",
    "from sklearn.svm import LinearSVC\n",
    "\n",
    "X_train = train_bunch.label\n",
    "y_train = train_bunch.tfidf_weight_matrices\n",
    "\n",
    "clf = AdaBoostClassifier(LinearSVC(C=1, tol=1e-5),n_estimators=50,algorithm='SAMME.R')\n",
    "\n",
    "clf.fit(y_train, X_train)"
   ],
   "metadata": {
    "collapsed": false,
    "pycharm": {
     "name": "#%%\n"
    }
   }
  },
  {
   "cell_type": "code",
   "execution_count": 1,
   "outputs": [
    {
     "ename": "NameError",
     "evalue": "name 'test_bunch' is not defined",
     "output_type": "error",
     "traceback": [
      "\u001B[1;31m---------------------------------------------------------------------------\u001B[0m",
      "\u001B[1;31mNameError\u001B[0m                                 Traceback (most recent call last)",
      "Input \u001B[1;32mIn [1]\u001B[0m, in \u001B[0;36m<cell line: 1>\u001B[1;34m()\u001B[0m\n\u001B[1;32m----> 1\u001B[0m y_test \u001B[38;5;241m=\u001B[39m \u001B[43mtest_bunch\u001B[49m\u001B[38;5;241m.\u001B[39mlabel\n\u001B[0;32m      2\u001B[0m y_predict \u001B[38;5;241m=\u001B[39m clf\u001B[38;5;241m.\u001B[39mpredict(test_bunch\u001B[38;5;241m.\u001B[39mtfidf_weight_matrices)\n\u001B[0;32m      4\u001B[0m y_test\u001B[38;5;241m.\u001B[39mshape\n",
      "\u001B[1;31mNameError\u001B[0m: name 'test_bunch' is not defined"
     ]
    }
   ],
   "source": [
    "y_test = test_bunch.label\n",
    "y_predict = clf.predict(test_bunch.tfidf_weight_matrices)\n",
    "\n",
    "y_test.shape"
   ],
   "metadata": {
    "collapsed": false,
    "pycharm": {
     "name": "#%%\n"
    }
   }
  },
  {
   "cell_type": "code",
   "execution_count": 8,
   "outputs": [
    {
     "name": "stdout",
     "output_type": "stream",
     "text": [
      "              precision    recall  f1-score   support\n",
      "\n",
      "          体育       1.00      0.96      0.98      1000\n",
      "          娱乐       0.98      0.97      0.97      1000\n",
      "          教育       0.89      0.87      0.88      1000\n",
      "          时尚       0.92      0.96      0.94      1000\n",
      "          时政       0.95      0.88      0.91      1000\n",
      "          游戏       0.95      0.97      0.96      1000\n",
      "          社会       0.91      0.90      0.91      1000\n",
      "          科技       0.91      0.89      0.90      1000\n",
      "          股票       0.91      0.97      0.94      1000\n",
      "          财经       0.93      0.97      0.95      1000\n",
      "\n",
      "    accuracy                           0.93     10000\n",
      "   macro avg       0.93      0.93      0.93     10000\n",
      "weighted avg       0.93      0.93      0.93     10000\n",
      "\n"
     ]
    }
   ],
   "source": [
    "from sklearn.metrics import classification_report\n",
    "print(classification_report(y_test, y_predict))\t# 打印结果"
   ],
   "metadata": {
    "collapsed": false,
    "pycharm": {
     "name": "#%%\n"
    }
   }
  }
 ],
 "metadata": {
  "kernelspec": {
   "display_name": "Python 3",
   "language": "python",
   "name": "python3"
  },
  "language_info": {
   "codemirror_mode": {
    "name": "ipython",
    "version": 2
   },
   "file_extension": ".py",
   "mimetype": "text/x-python",
   "name": "python",
   "nbconvert_exporter": "python",
   "pygments_lexer": "ipython2",
   "version": "2.7.6"
  }
 },
 "nbformat": 4,
 "nbformat_minor": 0
}