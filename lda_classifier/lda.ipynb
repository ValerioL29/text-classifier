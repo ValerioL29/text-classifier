{
 "cells": [
  {
   "cell_type": "code",
   "execution_count": 1,
   "outputs": [],
   "source": [
    "import pickle\n",
    "\n",
    "with open('../preprocess/train/train_bag.pickle', 'rb') as file_obj:\n",
    "    train_bunch = pickle.load(file_obj)\n",
    "with open('../preprocess/test/test_bag.pickle', 'rb') as file_obj:\n",
    "    test_bunch = pickle.load(file_obj)"
   ],
   "metadata": {
    "collapsed": false,
    "pycharm": {
     "name": "#%%\n"
    }
   }
  },
  {
   "cell_type": "code",
   "execution_count": 3,
   "outputs": [],
   "source": [
    "from sklearn.discriminant_analysis import LinearDiscriminantAnalysis\n",
    "\n",
    "X_train = train_bunch.tfidf_weight_matrices\n",
    "y_train = train_bunch.label\n",
    "X_test = test_bunch.tfidf_weight_matrices\n",
    "y_test = test_bunch.label\n",
    "\n",
    "model = LinearDiscriminantAnalysis()\n",
    "model.fit(X_train.toarray(), y_train)\n",
    "X_predict = model.predict(X_test)"
   ],
   "metadata": {
    "collapsed": false,
    "pycharm": {
     "name": "#%%\n"
    }
   }
  },
  {
   "cell_type": "code",
   "execution_count": 4,
   "outputs": [
    {
     "name": "stdout",
     "output_type": "stream",
     "text": [
      "              precision    recall  f1-score   support\n",
      "\n",
      "          体育       1.00      0.99      0.99      1000\n",
      "          娱乐       0.99      0.96      0.97      1000\n",
      "          教育       0.87      0.87      0.87      1000\n",
      "          时尚       0.96      0.96      0.96      1000\n",
      "          时政       0.96      0.92      0.94      1000\n",
      "          游戏       0.98      0.95      0.97      1000\n",
      "          社会       0.86      0.90      0.88      1000\n",
      "          科技       0.92      0.93      0.93      1000\n",
      "          股票       0.97      0.98      0.97      1000\n",
      "          财经       0.94      0.98      0.96      1000\n",
      "\n",
      "    accuracy                           0.94     10000\n",
      "   macro avg       0.94      0.94      0.94     10000\n",
      "weighted avg       0.94      0.94      0.94     10000\n",
      "\n"
     ]
    }
   ],
   "source": [
    "from sklearn.metrics import classification_report\n",
    "print(classification_report(y_test, X_predict))\t# 打印结果"
   ],
   "metadata": {
    "collapsed": false,
    "pycharm": {
     "name": "#%%\n"
    }
   }
  },
  {
   "cell_type": "code",
   "execution_count": null,
   "outputs": [],
   "source": [],
   "metadata": {
    "collapsed": false,
    "pycharm": {
     "name": "#%%\n"
    }
   }
  }
 ],
 "metadata": {
  "kernelspec": {
   "display_name": "Python 3",
   "language": "python",
   "name": "python3"
  },
  "language_info": {
   "codemirror_mode": {
    "name": "ipython",
    "version": 2
   },
   "file_extension": ".py",
   "mimetype": "text/x-python",
   "name": "python",
   "nbconvert_exporter": "python",
   "pygments_lexer": "ipython2",
   "version": "2.7.6"
  }
 },
 "nbformat": 4,
 "nbformat_minor": 0
}