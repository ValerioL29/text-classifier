{
 "cells": [
  {
   "cell_type": "code",
   "execution_count": 1,
   "outputs": [],
   "source": [
    "import pickle\n",
    "\n",
    "with open('../preprocess/train/train_bag.pickle', 'rb') as file_obj:\n",
    "    train_bunch = pickle.load(file_obj)\n",
    "with open('../preprocess/test/test_bag.pickle', 'rb') as file_obj:\n",
    "    test_bunch = pickle.load(file_obj)"
   ],
   "metadata": {
    "collapsed": false,
    "pycharm": {
     "name": "#%%\n"
    }
   }
  },
  {
   "cell_type": "code",
   "execution_count": 2,
   "outputs": [],
   "source": [
    "from sklearn.svm import LinearSVC\n",
    "\n",
    "X_train = train_bunch.label\n",
    "y_train = train_bunch.tfidf_weight_matrices\n",
    "clf = LinearSVC(C=1, tol=1e-5)\n",
    "clf.fit(y_train, X_train)\n",
    "predicted = clf.predict(test_bunch.tfidf_weight_matrices)"
   ],
   "metadata": {
    "collapsed": false,
    "pycharm": {
     "name": "#%%\n"
    }
   }
  },
  {
   "cell_type": "code",
   "execution_count": 3,
   "outputs": [
    {
     "name": "stdout",
     "output_type": "stream",
     "text": [
      "              precision    recall  f1-score   support\n",
      "\n",
      "          体育       1.00      1.00      1.00      1000\n",
      "          娱乐       0.97      0.98      0.98      1000\n",
      "          教育       0.92      0.87      0.90      1000\n",
      "          时尚       0.94      0.96      0.95      1000\n",
      "          时政       0.96      0.93      0.95      1000\n",
      "          游戏       0.97      0.97      0.97      1000\n",
      "          社会       0.93      0.90      0.91      1000\n",
      "          科技       0.91      0.92      0.91      1000\n",
      "          股票       0.95      0.97      0.96      1000\n",
      "          财经       0.94      0.98      0.96      1000\n",
      "\n",
      "    accuracy                           0.95     10000\n",
      "   macro avg       0.95      0.95      0.95     10000\n",
      "weighted avg       0.95      0.95      0.95     10000\n",
      "\n"
     ]
    }
   ],
   "source": [
    "from sklearn.metrics import classification_report\n",
    "print(classification_report(test_bunch.label, predicted))\t# 打印结果"
   ],
   "metadata": {
    "collapsed": false,
    "pycharm": {
     "name": "#%%\n"
    }
   }
  },
  {
   "cell_type": "code",
   "execution_count": null,
   "outputs": [],
   "source": [],
   "metadata": {
    "collapsed": false,
    "pycharm": {
     "name": "#%%\n"
    }
   }
  }
 ],
 "metadata": {
  "kernelspec": {
   "display_name": "Python 3",
   "language": "python",
   "name": "python3"
  },
  "language_info": {
   "codemirror_mode": {
    "name": "ipython",
    "version": 2
   },
   "file_extension": ".py",
   "mimetype": "text/x-python",
   "name": "python",
   "nbconvert_exporter": "python",
   "pygments_lexer": "ipython2",
   "version": "2.7.6"
  }
 },
 "nbformat": 4,
 "nbformat_minor": 0
}