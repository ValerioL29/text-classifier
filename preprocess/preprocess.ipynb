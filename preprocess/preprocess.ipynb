{
 "cells": [
  {
   "cell_type": "code",
   "execution_count": 46,
   "outputs": [],
   "source": [
    "import jieba\n",
    "\n",
    "def stop_words_list(filepath):\n",
    "    with open(filepath, 'r', encoding='utf-8') as file_obj:\n",
    "        lines = file_obj.readlines()\n",
    "        stopwords = [ele.strip() for ele in lines]\n",
    "\n",
    "    return stopwords\n",
    "\n",
    "def seg_sentence(sentence):\n",
    "    sentence_segmented = jieba.cut(sentence.strip())\n",
    "    stopwords = stop_words_list('../resources/stop_words_ch.txt')  #分词词库，这里选择baidu词库\n",
    "    output_str = ''\n",
    "    for word in sentence_segmented:\n",
    "        if word not in stopwords and word != ' ':\n",
    "            output_str += word\n",
    "            output_str += \"\\t\"\n",
    "    return output_str"
   ],
   "metadata": {
    "collapsed": false,
    "pycharm": {
     "name": "#%%\n"
    }
   }
  },
  {
   "cell_type": "code",
   "execution_count": 48,
   "outputs": [],
   "source": [
    "output = ''\n",
    "with open('../resources/1_caijing.txt', 'r+', encoding='utf-8') as file_obj:\n",
    "    sentences = file_obj.read().split('\\n')\n",
    "    for sentence in sentences:\n",
    "        res = seg_sentence(sentence)\n",
    "        output += res\n",
    "\n",
    "with open('output/1.txt', 'w+', encoding='utf-8') as file_obj:\n",
    "    file_obj.write(output)"
   ],
   "metadata": {
    "collapsed": false,
    "pycharm": {
     "name": "#%%\n"
    }
   }
  },
  {
   "cell_type": "code",
   "execution_count": null,
   "outputs": [],
   "source": [],
   "metadata": {
    "collapsed": false,
    "pycharm": {
     "name": "#%%\n"
    }
   }
  }
 ],
 "metadata": {
  "kernelspec": {
   "display_name": "Python 3",
   "language": "python",
   "name": "python3"
  },
  "language_info": {
   "codemirror_mode": {
    "name": "ipython",
    "version": 2
   },
   "file_extension": ".py",
   "mimetype": "text/x-python",
   "name": "python",
   "nbconvert_exporter": "python",
   "pygments_lexer": "ipython2",
   "version": "2.7.6"
  }
 },
 "nbformat": 4,
 "nbformat_minor": 0
}