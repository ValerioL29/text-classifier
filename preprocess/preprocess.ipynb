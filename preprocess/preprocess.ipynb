{
 "cells": [
  {
   "cell_type": "code",
   "execution_count": 1,
   "outputs": [],
   "source": [
    "from sklearn.utils import Bunch\n",
    "from sklearn.feature_extraction.text import TfidfVectorizer"
   ],
   "metadata": {
    "collapsed": false,
    "pycharm": {
     "name": "#%%\n"
    }
   }
  },
  {
   "cell_type": "code",
   "execution_count": 11,
   "outputs": [],
   "source": [
    "category_name = [\n",
    "    '1-财经',\n",
    "    '2-股票',\n",
    "    '3-教育',\n",
    "    '4-科技',\n",
    "    '5-社会',\n",
    "    '6-时尚',\n",
    "    '7-时政',\n",
    "    '8-体育',\n",
    "    '9-游戏',\n",
    "    '10-娱乐'\n",
    "]\n",
    "labels = [1,2,3,4,5,6,7,8,9,10]"
   ],
   "metadata": {
    "collapsed": false,
    "pycharm": {
     "name": "#%%\n"
    }
   }
  },
  {
   "cell_type": "code",
   "execution_count": 24,
   "outputs": [],
   "source": [
    "tfidf_space = Bunch(target_name=category_name,\t# 所有的分类名称\n",
    "                    label=labels,\n",
    "                    tfidf_weight_matrices=[],\n",
    "                    vocabulary={})"
   ],
   "metadata": {
    "collapsed": false,
    "pycharm": {
     "name": "#%%\n"
    }
   }
  },
  {
   "cell_type": "code",
   "execution_count": 25,
   "outputs": [],
   "source": [
    "'''\n",
    "这里使用了max_df和min_df两个参数指定文档频率的上下界，df 表示 document frequency\n",
    "- 如果一个词在10%的文档中都出现(本文共10各类别)，那么该词语不能很好的代表某一个类，所以应该将这个词去掉。\n",
    "- min_df同理，如果某个词的频率出现太低，则也无法代表某一类文档，应当忽略。\n",
    "'''\n",
    "tf_idf = TfidfVectorizer(sublinear_tf=True,\n",
    "                         max_df=0.1,\n",
    "                         min_df=0.001)"
   ],
   "metadata": {
    "collapsed": false,
    "pycharm": {
     "name": "#%%\n"
    }
   }
  },
  {
   "cell_type": "code",
   "execution_count": 26,
   "outputs": [],
   "source": [
    "corpus = list()\n",
    "for label in labels:\n",
    "    with open('output/{}.txt'.format(label), 'r+', encoding='utf-8') as file_obj:\n",
    "        cur = file_obj.read()\n",
    "        corpus.append(cur)"
   ],
   "metadata": {
    "collapsed": false,
    "pycharm": {
     "name": "#%%\n"
    }
   }
  },
  {
   "cell_type": "code",
   "execution_count": 27,
   "outputs": [],
   "source": [
    "tfidf_space.tfidf_weight_matrices = tf_idf.fit_transform(corpus)\n",
    "tfidf_space.vocabulary = tf_idf.vocabulary_"
   ],
   "metadata": {
    "collapsed": false,
    "pycharm": {
     "name": "#%%\n"
    }
   }
  },
  {
   "cell_type": "code",
   "execution_count": 29,
   "outputs": [
    {
     "data": {
      "text/plain": "<10x202297 sparse matrix of type '<class 'numpy.float64'>'\n\twith 202297 stored elements in Compressed Sparse Row format>"
     },
     "execution_count": 29,
     "metadata": {},
     "output_type": "execute_result"
    }
   ],
   "source": [
    "tfidf_space.tfidf_weight_matrices"
   ],
   "metadata": {
    "collapsed": false,
    "pycharm": {
     "name": "#%%\n"
    }
   }
  },
  {
   "cell_type": "code",
   "execution_count": null,
   "outputs": [],
   "source": [],
   "metadata": {
    "collapsed": false,
    "pycharm": {
     "name": "#%%\n"
    }
   }
  }
 ],
 "metadata": {
  "kernelspec": {
   "display_name": "Python 3",
   "language": "python",
   "name": "python3"
  },
  "language_info": {
   "codemirror_mode": {
    "name": "ipython",
    "version": 2
   },
   "file_extension": ".py",
   "mimetype": "text/x-python",
   "name": "python",
   "nbconvert_exporter": "python",
   "pygments_lexer": "ipython2",
   "version": "2.7.6"
  }
 },
 "nbformat": 4,
 "nbformat_minor": 0
}